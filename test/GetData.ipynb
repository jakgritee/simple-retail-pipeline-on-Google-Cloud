{
 "cells": [
  {
   "cell_type": "markdown",
   "metadata": {},
   "source": [
    "#### Get data from UC Irvine Machine Learning Repository\n",
    "https://archive-beta.ics.uci.edu/ml/datasets/online+retail  "
   ]
  },
  {
   "cell_type": "code",
   "execution_count": 1,
   "metadata": {},
   "outputs": [
    {
     "name": "stderr",
     "output_type": "stream",
     "text": [
      "  % Total    % Received % Xferd  Average Speed   Time    Time     Time  Current\n",
      "                                 Dload  Upload   Total   Spent    Left  Speed\n",
      "\n",
      "  0     0    0     0    0     0      0      0 --:--:-- --:--:-- --:--:--     0\n",
      "  0     0    0     0    0     0      0      0 --:--:--  0:00:01 --:--:--     0\n",
      "  0     0    0     0    0     0      0      0 --:--:--  0:00:01 --:--:--     0\n",
      "  0 22.6M    0  108k    0     0  41562      0  0:09:30  0:00:02  0:09:28 41596\n",
      " 15 22.6M   15 3503k    0     0   939k      0  0:00:24  0:00:03  0:00:21  940k\n",
      " 75 22.6M   75 17.0M    0     0  3800k      0  0:00:06  0:00:04  0:00:02 3801k\n",
      "100 22.6M  100 22.6M    0     0  4762k      0  0:00:04  0:00:04 --:--:-- 6429k\n"
     ]
    }
   ],
   "source": [
    "! curl -Lo online_retail.xlsx \"https://archive.ics.uci.edu/ml/machine-learning-databases/00352/Online%20Retail.xlsx\""
   ]
  },
  {
   "cell_type": "code",
   "execution_count": 2,
   "metadata": {},
   "outputs": [],
   "source": [
    "! wsl xlsx2csv online_retail.xlsx > online_retail.csv"
   ]
  },
  {
   "cell_type": "code",
   "execution_count": 3,
   "metadata": {},
   "outputs": [],
   "source": [
    "! rm online_retail.xlsx"
   ]
  },
  {
   "cell_type": "code",
   "execution_count": 4,
   "metadata": {},
   "outputs": [
    {
     "name": "stdout",
     "output_type": "stream",
     "text": [
      "InvoiceNo,StockCode,Description,Quantity,InvoiceDate,UnitPrice,CustomerID,Country\n",
      "536365,85123A,WHITE HANGING HEART T-LIGHT HOLDER,6,12/01/10 08:26,2.5499999999999998,17850,United Kingdom\n",
      "536365,71053,WHITE METAL LANTERN,6,12/01/10 08:26,3.39,17850,United Kingdom\n",
      "536365,84406B,CREAM CUPID HEARTS COAT HANGER,8,12/01/10 08:26,2.75,17850,United Kingdom\n",
      "536365,84029G,KNITTED UNION FLAG HOT WATER BOTTLE,6,12/01/10 08:26,3.39,17850,United Kingdom\n"
     ]
    }
   ],
   "source": [
    "! head -n 5 online_retail.csv"
   ]
  }
 ],
 "metadata": {
  "kernelspec": {
   "display_name": "Python 3.9.12 ('base')",
   "language": "python",
   "name": "python3"
  },
  "language_info": {
   "codemirror_mode": {
    "name": "ipython",
    "version": 3
   },
   "file_extension": ".py",
   "mimetype": "text/x-python",
   "name": "python",
   "nbconvert_exporter": "python",
   "pygments_lexer": "ipython3",
   "version": "3.9.12"
  },
  "orig_nbformat": 4,
  "vscode": {
   "interpreter": {
    "hash": "5e0aee7d38fa16471daf6ce5c092e51084a45eca5143944258d68ba9f3657ebb"
   }
  }
 },
 "nbformat": 4,
 "nbformat_minor": 2
}
